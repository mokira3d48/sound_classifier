{
  "cells": [
    {
      "cell_type": "markdown",
      "id": "0dd692b2-3e3f-4998-b8a4-8a9bdc581dd6",
      "metadata": {
        "id": "0dd692b2-3e3f-4998-b8a4-8a9bdc581dd6"
      },
      "source": [
        "# Introduction\n"
      ]
    },
    {
      "cell_type": "markdown",
      "id": "a1191ff7-00de-47e7-ad93-8729dd0f73e5",
      "metadata": {
        "id": "a1191ff7-00de-47e7-ad93-8729dd0f73e5"
      },
      "source": [
        "La classification des sons est l'une des applications les plus utilisées dans **Audio Deep Learning**. Cela implique d'apprendre à classer les sons et à prédire la catégorie de ce son. Ce type de problème peut être appliqué à de nombreux scénarios pratiques, par exemple la classification de clips musicaux pour identifier le genre de la musique, ou la classification de courts énoncés par un ensemble de locuteurs pour identifier le locuteur en fonction de la voix.\n",
        "\n",
        "Tout comme la classification des chiffres écrits à la main à l'aide de l'ensemble de données MNIST considérée comme un problème de type \"Hello World\" pour introduire la vision par ordinateur, la classification audio est lui aussi considérée comme le problème d'introduction pour Audio Deep Learning.\n",
        "\n",
        "Dans cet article, nous allons parcourir une application de démonstration simple afin de comprendre l'approche utilisée pour résoudre ces problèmes de classification audio. Mon objectif tout au long de ce tutoriel sera de te faire comprendre non seulement comment ces programmes fonctionnent, mais aussi, pourquoi ils fonctionnent de cette façon."
      ]
    },
    {
      "cell_type": "markdown",
      "id": "05110556-86fe-4d9b-b1c3-501d0d1d414c",
      "metadata": {
        "id": "05110556-86fe-4d9b-b1c3-501d0d1d414c"
      },
      "source": [
        "# Les données"
      ]
    },
    {
      "cell_type": "markdown",
      "id": "c914e0a7-4d21-49c0-84f3-e70c1670a43f",
      "metadata": {
        "id": "c914e0a7-4d21-49c0-84f3-e70c1670a43f"
      },
      "source": [
        "Il existe de nombreux ensembles de données appropriés disponibles pour les sons de différents types. Ces ensembles de données contiennent un grand nombre d'échantillons audio, ainsi qu'une étiquette de classe pour chaque échantillon qui identifie le type de son dont il s'agit, en fonction du problème qu'on essaie de résoudre. Ces étiquettes de classe peuvent souvent être obtenues à partir d'une partie du nom de fichier de l'échantillon audio ou du nom du sous-dossier dans lequel se trouve le fichier. Alternativement, les étiquettes de classe sont spécifiées dans un fichier de métadonnées séparé, généralement au format TXT, JSON ou CSV.\n",
        "\n",
        "Pour notre exemple de projet, nous allons utiliser l'ensemble de données [**Urban Sound 8K**](https://urbansounddataset.weebly.com/urbansound8k.html) qui consiste en un corpus de sons ordinaires enregistrés qu'on retrouve dans notre vie quotidienne en ville. Les sons sont rangés en 10 classes telles que le forage, les aboiements de chiens et les sirènes. Chaque échantillon sonore est étiqueté avec la classe à laquelle il appartient. Cette ensemble de donnée paise environ **5.6 GB**.\n",
        "\n",
        "Après avoir téléchargé ce jeu de données, on remarque qu'il se compose de deux parties :\n",
        "\n",
        "- Les **fichiers audio** dans le dossier `audio` qui comporte 10 sous-dossiers nommés de `fold1` à `fold10`. Dans chaque sous-dossier on trouve un certain nombre d'échantillons audio avec l'extension **.wav**, par exemple : `pli1/103074–7–1–0.wav`. Chaque échantillons durent environ 4 secondes.\n",
        "- Les **métadonnées** dans le dossier `metadata` qui contient un fichier nommé `UrbanSound8K.csv` qui contient des informations sur chaque échantillon audio du jeu de données, telles que son nom de fichier, son étiquette de classe, l'emplacement du sous-dossier 'fold', etc. L'étiquette de classe est un entier qui vari de 0 à 9 pour chacune des 10 classes, par exemple : le chiffre 0 désigne climatiseur, 1 : un klaxon de voiture, etc.\n",
        "\n",
        "Comme pour la plupart des problèmes de deep learning, nous suivrons les étapes présentées dans la figure suivante :"
      ]
    },
    {
      "cell_type": "markdown",
      "id": "0cde321a-0e3f-4fbd-9d6a-73aa68c5ee34",
      "metadata": {
        "id": "0cde321a-0e3f-4fbd-9d6a-73aa68c5ee34"
      },
      "source": [
        "![Flux de travail d'apprentissage en profondeur](images/dl_steps.png)"
      ]
    },
    {
      "cell_type": "markdown",
      "id": "09081298-38ea-4dfe-900f-8146e4d1d04e",
      "metadata": {
        "id": "09081298-38ea-4dfe-900f-8146e4d1d04e"
      },
      "source": [
        "Pour notre tâche de classification, les caractéritiques $X$ désigneront les chemins vers des fichiers audio et les étiquettes cibles $y$ vont désignés les noms de classe."
      ]
    },
    {
      "cell_type": "markdown",
      "id": "81fb97bd-7ec8-4013-a92a-34bcbcd820ac",
      "metadata": {
        "id": "81fb97bd-7ec8-4013-a92a-34bcbcd820ac"
      },
      "source": [
        "## Récupération des données"
      ]
    },
    {
      "cell_type": "markdown",
      "id": "6720d0ad-46c2-4726-a199-bdc08689861f",
      "metadata": {
        "id": "6720d0ad-46c2-4726-a199-bdc08689861f"
      },
      "source": [
        "Pour télécharger l'ensemble de données, on va juste exécuter la commande suivante :\n",
        "```sh\n",
        "wget -c https://zenodo.org/record/1203745/files/UrbanSound8K.tar.gz\n",
        "```\n",
        "Voici le code à exécuter dans un noteboock :"
      ]
    },
    {
      "cell_type": "code",
      "execution_count": 1,
      "id": "6cb9d228-d2e5-4622-b582-d27825e16471",
      "metadata": {
        "colab": {
          "base_uri": "https://localhost:8080/"
        },
        "id": "6cb9d228-d2e5-4622-b582-d27825e16471",
        "outputId": "ed56300d-b995-4dbd-80a4-3036aa2fd10f"
      },
      "outputs": [
        {
          "output_type": "stream",
          "name": "stdout",
          "text": [
            "--2023-08-05 10:09:17--  https://zenodo.org/record/1203745/files/UrbanSound8K.tar.gz\n",
            "Resolving zenodo.org (zenodo.org)... 188.185.124.72\n",
            "Connecting to zenodo.org (zenodo.org)|188.185.124.72|:443... connected.\n",
            "HTTP request sent, awaiting response... 200 OK\n",
            "Length: 6023741708 (5.6G) [application/octet-stream]\n",
            "Saving to: ‘UrbanSound8K.tar.gz’\n",
            "\n",
            "UrbanSound8K.tar.gz 100%[===================>]   5.61G  18.0MB/s    in 6m 30s  \n",
            "\n",
            "2023-08-05 10:15:49 (14.7 MB/s) - ‘UrbanSound8K.tar.gz’ saved [6023741708/6023741708]\n",
            "\n"
          ]
        }
      ],
      "source": [
        "!wget -c https://zenodo.org/record/1203745/files/UrbanSound8K.tar.gz"
      ]
    },
    {
      "cell_type": "markdown",
      "source": [
        "Une fois le téléchargement terminé, il faut décompresser le fichier en exécutant la commande suivante :"
      ],
      "metadata": {
        "id": "S_4AI0UNMQjm"
      },
      "id": "S_4AI0UNMQjm"
    },
    {
      "cell_type": "code",
      "source": [
        "!tar -xzf UrbanSound8K.tar.gz"
      ],
      "metadata": {
        "id": "mpfX0SuaMnnQ"
      },
      "id": "mpfX0SuaMnnQ",
      "execution_count": 15,
      "outputs": []
    },
    {
      "cell_type": "markdown",
      "id": "e0e9e4e2-0c0c-4ef2-a53c-ae681da6f374",
      "metadata": {
        "id": "e0e9e4e2-0c0c-4ef2-a53c-ae681da6f374"
      },
      "source": [
        "## Préparation des données d'entraînement"
      ]
    },
    {
      "cell_type": "markdown",
      "id": "196760da-a273-4f45-aaa1-9861f093b490",
      "metadata": {
        "id": "196760da-a273-4f45-aaa1-9861f093b490"
      },
      "source": [
        "De nombreux ensembles de données se composent uniquement de fichiers audio organisés dans une structure de dossiers à partir de laquelle on peut extraire les étiquettes de classe. Pour préparer nos données d'entraînement dans le format necessaire pour notre modèle, nous procédera en trois (03) étapes :\n",
        "\n",
        "- Analyser le répertoire pour préparez une liste de tous les chemins de fichiers audio;\n",
        "- Extraire l'étiquette de classe de chaque fichier audio du nom de son dossier parent;\n",
        "- Faire correspondre chaque nom de classe à un numéro unique.\n",
        "\n",
        "Étant donné que l'ensemble de données contient déjà un fichier CSV de métadonnées contenant les informations recherchées sur chaque fichier audio, on va l'utiliser directement."
      ]
    },
    {
      "cell_type": "code",
      "execution_count": 5,
      "id": "f84e1d68-8500-4646-bcc6-50c7ce45c5cd",
      "metadata": {
        "colab": {
          "base_uri": "https://localhost:8080/",
          "height": 206
        },
        "id": "f84e1d68-8500-4646-bcc6-50c7ce45c5cd",
        "outputId": "39809409-a396-443d-d64c-334f7811cc72"
      },
      "outputs": [
        {
          "output_type": "execute_result",
          "data": {
            "text/plain": [
              "      slice_file_name    fsID  start        end  salience  fold  classID  \\\n",
              "0    100032-3-0-0.wav  100032    0.0   0.317551         1     5        3   \n",
              "1  100263-2-0-117.wav  100263   58.5  62.500000         1     5        2   \n",
              "2  100263-2-0-121.wav  100263   60.5  64.500000         1     5        2   \n",
              "3  100263-2-0-126.wav  100263   63.0  67.000000         1     5        2   \n",
              "4  100263-2-0-137.wav  100263   68.5  72.500000         1     5        2   \n",
              "\n",
              "              class  \n",
              "0          dog_bark  \n",
              "1  children_playing  \n",
              "2  children_playing  \n",
              "3  children_playing  \n",
              "4  children_playing  "
            ],
            "text/html": [
              "\n",
              "\n",
              "  <div id=\"df-90c8e418-227d-49d6-9882-d5e3cbc69cc0\">\n",
              "    <div class=\"colab-df-container\">\n",
              "      <div>\n",
              "<style scoped>\n",
              "    .dataframe tbody tr th:only-of-type {\n",
              "        vertical-align: middle;\n",
              "    }\n",
              "\n",
              "    .dataframe tbody tr th {\n",
              "        vertical-align: top;\n",
              "    }\n",
              "\n",
              "    .dataframe thead th {\n",
              "        text-align: right;\n",
              "    }\n",
              "</style>\n",
              "<table border=\"1\" class=\"dataframe\">\n",
              "  <thead>\n",
              "    <tr style=\"text-align: right;\">\n",
              "      <th></th>\n",
              "      <th>slice_file_name</th>\n",
              "      <th>fsID</th>\n",
              "      <th>start</th>\n",
              "      <th>end</th>\n",
              "      <th>salience</th>\n",
              "      <th>fold</th>\n",
              "      <th>classID</th>\n",
              "      <th>class</th>\n",
              "    </tr>\n",
              "  </thead>\n",
              "  <tbody>\n",
              "    <tr>\n",
              "      <th>0</th>\n",
              "      <td>100032-3-0-0.wav</td>\n",
              "      <td>100032</td>\n",
              "      <td>0.0</td>\n",
              "      <td>0.317551</td>\n",
              "      <td>1</td>\n",
              "      <td>5</td>\n",
              "      <td>3</td>\n",
              "      <td>dog_bark</td>\n",
              "    </tr>\n",
              "    <tr>\n",
              "      <th>1</th>\n",
              "      <td>100263-2-0-117.wav</td>\n",
              "      <td>100263</td>\n",
              "      <td>58.5</td>\n",
              "      <td>62.500000</td>\n",
              "      <td>1</td>\n",
              "      <td>5</td>\n",
              "      <td>2</td>\n",
              "      <td>children_playing</td>\n",
              "    </tr>\n",
              "    <tr>\n",
              "      <th>2</th>\n",
              "      <td>100263-2-0-121.wav</td>\n",
              "      <td>100263</td>\n",
              "      <td>60.5</td>\n",
              "      <td>64.500000</td>\n",
              "      <td>1</td>\n",
              "      <td>5</td>\n",
              "      <td>2</td>\n",
              "      <td>children_playing</td>\n",
              "    </tr>\n",
              "    <tr>\n",
              "      <th>3</th>\n",
              "      <td>100263-2-0-126.wav</td>\n",
              "      <td>100263</td>\n",
              "      <td>63.0</td>\n",
              "      <td>67.000000</td>\n",
              "      <td>1</td>\n",
              "      <td>5</td>\n",
              "      <td>2</td>\n",
              "      <td>children_playing</td>\n",
              "    </tr>\n",
              "    <tr>\n",
              "      <th>4</th>\n",
              "      <td>100263-2-0-137.wav</td>\n",
              "      <td>100263</td>\n",
              "      <td>68.5</td>\n",
              "      <td>72.500000</td>\n",
              "      <td>1</td>\n",
              "      <td>5</td>\n",
              "      <td>2</td>\n",
              "      <td>children_playing</td>\n",
              "    </tr>\n",
              "  </tbody>\n",
              "</table>\n",
              "</div>\n",
              "      <button class=\"colab-df-convert\" onclick=\"convertToInteractive('df-90c8e418-227d-49d6-9882-d5e3cbc69cc0')\"\n",
              "              title=\"Convert this dataframe to an interactive table.\"\n",
              "              style=\"display:none;\">\n",
              "\n",
              "  <svg xmlns=\"http://www.w3.org/2000/svg\" height=\"24px\"viewBox=\"0 0 24 24\"\n",
              "       width=\"24px\">\n",
              "    <path d=\"M0 0h24v24H0V0z\" fill=\"none\"/>\n",
              "    <path d=\"M18.56 5.44l.94 2.06.94-2.06 2.06-.94-2.06-.94-.94-2.06-.94 2.06-2.06.94zm-11 1L8.5 8.5l.94-2.06 2.06-.94-2.06-.94L8.5 2.5l-.94 2.06-2.06.94zm10 10l.94 2.06.94-2.06 2.06-.94-2.06-.94-.94-2.06-.94 2.06-2.06.94z\"/><path d=\"M17.41 7.96l-1.37-1.37c-.4-.4-.92-.59-1.43-.59-.52 0-1.04.2-1.43.59L10.3 9.45l-7.72 7.72c-.78.78-.78 2.05 0 2.83L4 21.41c.39.39.9.59 1.41.59.51 0 1.02-.2 1.41-.59l7.78-7.78 2.81-2.81c.8-.78.8-2.07 0-2.86zM5.41 20L4 18.59l7.72-7.72 1.47 1.35L5.41 20z\"/>\n",
              "  </svg>\n",
              "      </button>\n",
              "\n",
              "\n",
              "\n",
              "    <div id=\"df-1f7315dc-7c4d-44bc-95c6-27a2f307426e\">\n",
              "      <button class=\"colab-df-quickchart\" onclick=\"quickchart('df-1f7315dc-7c4d-44bc-95c6-27a2f307426e')\"\n",
              "              title=\"Suggest charts.\"\n",
              "              style=\"display:none;\">\n",
              "\n",
              "<svg xmlns=\"http://www.w3.org/2000/svg\" height=\"24px\"viewBox=\"0 0 24 24\"\n",
              "     width=\"24px\">\n",
              "    <g>\n",
              "        <path d=\"M19 3H5c-1.1 0-2 .9-2 2v14c0 1.1.9 2 2 2h14c1.1 0 2-.9 2-2V5c0-1.1-.9-2-2-2zM9 17H7v-7h2v7zm4 0h-2V7h2v10zm4 0h-2v-4h2v4z\"/>\n",
              "    </g>\n",
              "</svg>\n",
              "      </button>\n",
              "    </div>\n",
              "\n",
              "<style>\n",
              "  .colab-df-quickchart {\n",
              "    background-color: #E8F0FE;\n",
              "    border: none;\n",
              "    border-radius: 50%;\n",
              "    cursor: pointer;\n",
              "    display: none;\n",
              "    fill: #1967D2;\n",
              "    height: 32px;\n",
              "    padding: 0 0 0 0;\n",
              "    width: 32px;\n",
              "  }\n",
              "\n",
              "  .colab-df-quickchart:hover {\n",
              "    background-color: #E2EBFA;\n",
              "    box-shadow: 0px 1px 2px rgba(60, 64, 67, 0.3), 0px 1px 3px 1px rgba(60, 64, 67, 0.15);\n",
              "    fill: #174EA6;\n",
              "  }\n",
              "\n",
              "  [theme=dark] .colab-df-quickchart {\n",
              "    background-color: #3B4455;\n",
              "    fill: #D2E3FC;\n",
              "  }\n",
              "\n",
              "  [theme=dark] .colab-df-quickchart:hover {\n",
              "    background-color: #434B5C;\n",
              "    box-shadow: 0px 1px 3px 1px rgba(0, 0, 0, 0.15);\n",
              "    filter: drop-shadow(0px 1px 2px rgba(0, 0, 0, 0.3));\n",
              "    fill: #FFFFFF;\n",
              "  }\n",
              "</style>\n",
              "\n",
              "    <script>\n",
              "      async function quickchart(key) {\n",
              "        const containerElement = document.querySelector('#' + key);\n",
              "        const charts = await google.colab.kernel.invokeFunction(\n",
              "            'suggestCharts', [key], {});\n",
              "      }\n",
              "    </script>\n",
              "\n",
              "      <script>\n",
              "\n",
              "function displayQuickchartButton(domScope) {\n",
              "  let quickchartButtonEl =\n",
              "    domScope.querySelector('#df-1f7315dc-7c4d-44bc-95c6-27a2f307426e button.colab-df-quickchart');\n",
              "  quickchartButtonEl.style.display =\n",
              "    google.colab.kernel.accessAllowed ? 'block' : 'none';\n",
              "}\n",
              "\n",
              "        displayQuickchartButton(document);\n",
              "      </script>\n",
              "      <style>\n",
              "    .colab-df-container {\n",
              "      display:flex;\n",
              "      flex-wrap:wrap;\n",
              "      gap: 12px;\n",
              "    }\n",
              "\n",
              "    .colab-df-convert {\n",
              "      background-color: #E8F0FE;\n",
              "      border: none;\n",
              "      border-radius: 50%;\n",
              "      cursor: pointer;\n",
              "      display: none;\n",
              "      fill: #1967D2;\n",
              "      height: 32px;\n",
              "      padding: 0 0 0 0;\n",
              "      width: 32px;\n",
              "    }\n",
              "\n",
              "    .colab-df-convert:hover {\n",
              "      background-color: #E2EBFA;\n",
              "      box-shadow: 0px 1px 2px rgba(60, 64, 67, 0.3), 0px 1px 3px 1px rgba(60, 64, 67, 0.15);\n",
              "      fill: #174EA6;\n",
              "    }\n",
              "\n",
              "    [theme=dark] .colab-df-convert {\n",
              "      background-color: #3B4455;\n",
              "      fill: #D2E3FC;\n",
              "    }\n",
              "\n",
              "    [theme=dark] .colab-df-convert:hover {\n",
              "      background-color: #434B5C;\n",
              "      box-shadow: 0px 1px 3px 1px rgba(0, 0, 0, 0.15);\n",
              "      filter: drop-shadow(0px 1px 2px rgba(0, 0, 0, 0.3));\n",
              "      fill: #FFFFFF;\n",
              "    }\n",
              "  </style>\n",
              "\n",
              "      <script>\n",
              "        const buttonEl =\n",
              "          document.querySelector('#df-90c8e418-227d-49d6-9882-d5e3cbc69cc0 button.colab-df-convert');\n",
              "        buttonEl.style.display =\n",
              "          google.colab.kernel.accessAllowed ? 'block' : 'none';\n",
              "\n",
              "        async function convertToInteractive(key) {\n",
              "          const element = document.querySelector('#df-90c8e418-227d-49d6-9882-d5e3cbc69cc0');\n",
              "          const dataTable =\n",
              "            await google.colab.kernel.invokeFunction('convertToInteractive',\n",
              "                                                     [key], {});\n",
              "          if (!dataTable) return;\n",
              "\n",
              "          const docLinkHtml = 'Like what you see? Visit the ' +\n",
              "            '<a target=\"_blank\" href=https://colab.research.google.com/notebooks/data_table.ipynb>data table notebook</a>'\n",
              "            + ' to learn more about interactive tables.';\n",
              "          element.innerHTML = '';\n",
              "          dataTable['output_type'] = 'display_data';\n",
              "          await google.colab.output.renderOutput(dataTable, element);\n",
              "          const docLink = document.createElement('div');\n",
              "          docLink.innerHTML = docLinkHtml;\n",
              "          element.appendChild(docLink);\n",
              "        }\n",
              "      </script>\n",
              "    </div>\n",
              "  </div>\n"
            ]
          },
          "metadata": {},
          "execution_count": 5
        }
      ],
      "source": [
        "import pandas as pd\n",
        "\n",
        "\n",
        "# On ouvre et on affiche les 5 premiers lignes du fichier.\n",
        "metadata_df = pd.read_csv(\"./UrbanSound8K/metadata/UrbanSound8K.csv\")\n",
        "metadata_df.head()"
      ]
    },
    {
      "cell_type": "markdown",
      "id": "8e44828d-ef19-45c5-a3d6-abbbc867a56c",
      "metadata": {
        "id": "8e44828d-ef19-45c5-a3d6-abbbc867a56c"
      },
      "source": [
        "On a besoin d'une créer une colonnes de plus pour préparer les données à d'entraînement. Il s'agit de la colonne qui contiendra le chemin d'accès vers chaque fichier audio. Pour cela, on va ajouter une nouvelle colonne nommée `'relative_path'` qui représentera le chemin relatif vers chaque fichier audio."
      ]
    },
    {
      "cell_type": "code",
      "execution_count": 8,
      "id": "33629139-afd5-475f-9e5c-f35ad565a65c",
      "metadata": {
        "colab": {
          "base_uri": "https://localhost:8080/",
          "height": 206
        },
        "id": "33629139-afd5-475f-9e5c-f35ad565a65c",
        "outputId": "a8f6e182-0bf3-4677-c795-e10d9c4ba7ec"
      },
      "outputs": [
        {
          "output_type": "execute_result",
          "data": {
            "text/plain": [
              "                                   relative_path\n",
              "0    ./UrbanSound8K/audio/fold5/100032-3-0-0.wav\n",
              "1  ./UrbanSound8K/audio/fold5/100263-2-0-117.wav\n",
              "2  ./UrbanSound8K/audio/fold5/100263-2-0-121.wav\n",
              "3  ./UrbanSound8K/audio/fold5/100263-2-0-126.wav\n",
              "4  ./UrbanSound8K/audio/fold5/100263-2-0-137.wav"
            ],
            "text/html": [
              "\n",
              "\n",
              "  <div id=\"df-018d6e5a-3543-430c-a971-3ad27cb7bc35\">\n",
              "    <div class=\"colab-df-container\">\n",
              "      <div>\n",
              "<style scoped>\n",
              "    .dataframe tbody tr th:only-of-type {\n",
              "        vertical-align: middle;\n",
              "    }\n",
              "\n",
              "    .dataframe tbody tr th {\n",
              "        vertical-align: top;\n",
              "    }\n",
              "\n",
              "    .dataframe thead th {\n",
              "        text-align: right;\n",
              "    }\n",
              "</style>\n",
              "<table border=\"1\" class=\"dataframe\">\n",
              "  <thead>\n",
              "    <tr style=\"text-align: right;\">\n",
              "      <th></th>\n",
              "      <th>relative_path</th>\n",
              "    </tr>\n",
              "  </thead>\n",
              "  <tbody>\n",
              "    <tr>\n",
              "      <th>0</th>\n",
              "      <td>./UrbanSound8K/audio/fold5/100032-3-0-0.wav</td>\n",
              "    </tr>\n",
              "    <tr>\n",
              "      <th>1</th>\n",
              "      <td>./UrbanSound8K/audio/fold5/100263-2-0-117.wav</td>\n",
              "    </tr>\n",
              "    <tr>\n",
              "      <th>2</th>\n",
              "      <td>./UrbanSound8K/audio/fold5/100263-2-0-121.wav</td>\n",
              "    </tr>\n",
              "    <tr>\n",
              "      <th>3</th>\n",
              "      <td>./UrbanSound8K/audio/fold5/100263-2-0-126.wav</td>\n",
              "    </tr>\n",
              "    <tr>\n",
              "      <th>4</th>\n",
              "      <td>./UrbanSound8K/audio/fold5/100263-2-0-137.wav</td>\n",
              "    </tr>\n",
              "  </tbody>\n",
              "</table>\n",
              "</div>\n",
              "      <button class=\"colab-df-convert\" onclick=\"convertToInteractive('df-018d6e5a-3543-430c-a971-3ad27cb7bc35')\"\n",
              "              title=\"Convert this dataframe to an interactive table.\"\n",
              "              style=\"display:none;\">\n",
              "\n",
              "  <svg xmlns=\"http://www.w3.org/2000/svg\" height=\"24px\"viewBox=\"0 0 24 24\"\n",
              "       width=\"24px\">\n",
              "    <path d=\"M0 0h24v24H0V0z\" fill=\"none\"/>\n",
              "    <path d=\"M18.56 5.44l.94 2.06.94-2.06 2.06-.94-2.06-.94-.94-2.06-.94 2.06-2.06.94zm-11 1L8.5 8.5l.94-2.06 2.06-.94-2.06-.94L8.5 2.5l-.94 2.06-2.06.94zm10 10l.94 2.06.94-2.06 2.06-.94-2.06-.94-.94-2.06-.94 2.06-2.06.94z\"/><path d=\"M17.41 7.96l-1.37-1.37c-.4-.4-.92-.59-1.43-.59-.52 0-1.04.2-1.43.59L10.3 9.45l-7.72 7.72c-.78.78-.78 2.05 0 2.83L4 21.41c.39.39.9.59 1.41.59.51 0 1.02-.2 1.41-.59l7.78-7.78 2.81-2.81c.8-.78.8-2.07 0-2.86zM5.41 20L4 18.59l7.72-7.72 1.47 1.35L5.41 20z\"/>\n",
              "  </svg>\n",
              "      </button>\n",
              "\n",
              "\n",
              "\n",
              "    <div id=\"df-37e0d60e-78d2-49c9-a296-197d599cb1bf\">\n",
              "      <button class=\"colab-df-quickchart\" onclick=\"quickchart('df-37e0d60e-78d2-49c9-a296-197d599cb1bf')\"\n",
              "              title=\"Suggest charts.\"\n",
              "              style=\"display:none;\">\n",
              "\n",
              "<svg xmlns=\"http://www.w3.org/2000/svg\" height=\"24px\"viewBox=\"0 0 24 24\"\n",
              "     width=\"24px\">\n",
              "    <g>\n",
              "        <path d=\"M19 3H5c-1.1 0-2 .9-2 2v14c0 1.1.9 2 2 2h14c1.1 0 2-.9 2-2V5c0-1.1-.9-2-2-2zM9 17H7v-7h2v7zm4 0h-2V7h2v10zm4 0h-2v-4h2v4z\"/>\n",
              "    </g>\n",
              "</svg>\n",
              "      </button>\n",
              "    </div>\n",
              "\n",
              "<style>\n",
              "  .colab-df-quickchart {\n",
              "    background-color: #E8F0FE;\n",
              "    border: none;\n",
              "    border-radius: 50%;\n",
              "    cursor: pointer;\n",
              "    display: none;\n",
              "    fill: #1967D2;\n",
              "    height: 32px;\n",
              "    padding: 0 0 0 0;\n",
              "    width: 32px;\n",
              "  }\n",
              "\n",
              "  .colab-df-quickchart:hover {\n",
              "    background-color: #E2EBFA;\n",
              "    box-shadow: 0px 1px 2px rgba(60, 64, 67, 0.3), 0px 1px 3px 1px rgba(60, 64, 67, 0.15);\n",
              "    fill: #174EA6;\n",
              "  }\n",
              "\n",
              "  [theme=dark] .colab-df-quickchart {\n",
              "    background-color: #3B4455;\n",
              "    fill: #D2E3FC;\n",
              "  }\n",
              "\n",
              "  [theme=dark] .colab-df-quickchart:hover {\n",
              "    background-color: #434B5C;\n",
              "    box-shadow: 0px 1px 3px 1px rgba(0, 0, 0, 0.15);\n",
              "    filter: drop-shadow(0px 1px 2px rgba(0, 0, 0, 0.3));\n",
              "    fill: #FFFFFF;\n",
              "  }\n",
              "</style>\n",
              "\n",
              "    <script>\n",
              "      async function quickchart(key) {\n",
              "        const containerElement = document.querySelector('#' + key);\n",
              "        const charts = await google.colab.kernel.invokeFunction(\n",
              "            'suggestCharts', [key], {});\n",
              "      }\n",
              "    </script>\n",
              "\n",
              "      <script>\n",
              "\n",
              "function displayQuickchartButton(domScope) {\n",
              "  let quickchartButtonEl =\n",
              "    domScope.querySelector('#df-37e0d60e-78d2-49c9-a296-197d599cb1bf button.colab-df-quickchart');\n",
              "  quickchartButtonEl.style.display =\n",
              "    google.colab.kernel.accessAllowed ? 'block' : 'none';\n",
              "}\n",
              "\n",
              "        displayQuickchartButton(document);\n",
              "      </script>\n",
              "      <style>\n",
              "    .colab-df-container {\n",
              "      display:flex;\n",
              "      flex-wrap:wrap;\n",
              "      gap: 12px;\n",
              "    }\n",
              "\n",
              "    .colab-df-convert {\n",
              "      background-color: #E8F0FE;\n",
              "      border: none;\n",
              "      border-radius: 50%;\n",
              "      cursor: pointer;\n",
              "      display: none;\n",
              "      fill: #1967D2;\n",
              "      height: 32px;\n",
              "      padding: 0 0 0 0;\n",
              "      width: 32px;\n",
              "    }\n",
              "\n",
              "    .colab-df-convert:hover {\n",
              "      background-color: #E2EBFA;\n",
              "      box-shadow: 0px 1px 2px rgba(60, 64, 67, 0.3), 0px 1px 3px 1px rgba(60, 64, 67, 0.15);\n",
              "      fill: #174EA6;\n",
              "    }\n",
              "\n",
              "    [theme=dark] .colab-df-convert {\n",
              "      background-color: #3B4455;\n",
              "      fill: #D2E3FC;\n",
              "    }\n",
              "\n",
              "    [theme=dark] .colab-df-convert:hover {\n",
              "      background-color: #434B5C;\n",
              "      box-shadow: 0px 1px 3px 1px rgba(0, 0, 0, 0.15);\n",
              "      filter: drop-shadow(0px 1px 2px rgba(0, 0, 0, 0.3));\n",
              "      fill: #FFFFFF;\n",
              "    }\n",
              "  </style>\n",
              "\n",
              "      <script>\n",
              "        const buttonEl =\n",
              "          document.querySelector('#df-018d6e5a-3543-430c-a971-3ad27cb7bc35 button.colab-df-convert');\n",
              "        buttonEl.style.display =\n",
              "          google.colab.kernel.accessAllowed ? 'block' : 'none';\n",
              "\n",
              "        async function convertToInteractive(key) {\n",
              "          const element = document.querySelector('#df-018d6e5a-3543-430c-a971-3ad27cb7bc35');\n",
              "          const dataTable =\n",
              "            await google.colab.kernel.invokeFunction('convertToInteractive',\n",
              "                                                     [key], {});\n",
              "          if (!dataTable) return;\n",
              "\n",
              "          const docLinkHtml = 'Like what you see? Visit the ' +\n",
              "            '<a target=\"_blank\" href=https://colab.research.google.com/notebooks/data_table.ipynb>data table notebook</a>'\n",
              "            + ' to learn more about interactive tables.';\n",
              "          element.innerHTML = '';\n",
              "          dataTable['output_type'] = 'display_data';\n",
              "          await google.colab.output.renderOutput(dataTable, element);\n",
              "          const docLink = document.createElement('div');\n",
              "          docLink.innerHTML = docLinkHtml;\n",
              "          element.appendChild(docLink);\n",
              "        }\n",
              "      </script>\n",
              "    </div>\n",
              "  </div>\n"
            ]
          },
          "metadata": {},
          "execution_count": 8
        }
      ],
      "source": [
        "# On construit le chemin relatif vers chaque fichier audio.\n",
        "metadata_df['relative_path'] = './UrbanSound8K/audio/fold' \\\n",
        "        + metadata_df['fold'].astype(str) \\\n",
        "        + '/' \\\n",
        "        + metadata_df['slice_file_name'].astype(str) \\\n",
        "\n",
        "# On affiche un apperçu.\n",
        "metadata_df[['relative_path']].head()"
      ]
    },
    {
      "cell_type": "markdown",
      "id": "8b675ff3-7d1b-4bb9-b1f1-fcaafaa17ddd",
      "metadata": {
        "id": "8b675ff3-7d1b-4bb9-b1f1-fcaafaa17ddd"
      },
      "source": [
        "On a juste besoin de deux colonnes dans cette table de données pour constituer la dataset d'entraînement, donc récupérons les dans une nouvelle variable."
      ]
    },
    {
      "cell_type": "code",
      "execution_count": 9,
      "id": "406c3204-466a-43d0-b6fa-bf6aa7e542e7",
      "metadata": {
        "colab": {
          "base_uri": "https://localhost:8080/",
          "height": 206
        },
        "id": "406c3204-466a-43d0-b6fa-bf6aa7e542e7",
        "outputId": "8bae4a9c-653f-4f1d-c318-246a60a22c41"
      },
      "outputs": [
        {
          "output_type": "execute_result",
          "data": {
            "text/plain": [
              "                                   relative_path  classID\n",
              "0    ./UrbanSound8K/audio/fold5/100032-3-0-0.wav        3\n",
              "1  ./UrbanSound8K/audio/fold5/100263-2-0-117.wav        2\n",
              "2  ./UrbanSound8K/audio/fold5/100263-2-0-121.wav        2\n",
              "3  ./UrbanSound8K/audio/fold5/100263-2-0-126.wav        2\n",
              "4  ./UrbanSound8K/audio/fold5/100263-2-0-137.wav        2"
            ],
            "text/html": [
              "\n",
              "\n",
              "  <div id=\"df-20e0b44c-1d64-4719-aec5-d009e1899ca6\">\n",
              "    <div class=\"colab-df-container\">\n",
              "      <div>\n",
              "<style scoped>\n",
              "    .dataframe tbody tr th:only-of-type {\n",
              "        vertical-align: middle;\n",
              "    }\n",
              "\n",
              "    .dataframe tbody tr th {\n",
              "        vertical-align: top;\n",
              "    }\n",
              "\n",
              "    .dataframe thead th {\n",
              "        text-align: right;\n",
              "    }\n",
              "</style>\n",
              "<table border=\"1\" class=\"dataframe\">\n",
              "  <thead>\n",
              "    <tr style=\"text-align: right;\">\n",
              "      <th></th>\n",
              "      <th>relative_path</th>\n",
              "      <th>classID</th>\n",
              "    </tr>\n",
              "  </thead>\n",
              "  <tbody>\n",
              "    <tr>\n",
              "      <th>0</th>\n",
              "      <td>./UrbanSound8K/audio/fold5/100032-3-0-0.wav</td>\n",
              "      <td>3</td>\n",
              "    </tr>\n",
              "    <tr>\n",
              "      <th>1</th>\n",
              "      <td>./UrbanSound8K/audio/fold5/100263-2-0-117.wav</td>\n",
              "      <td>2</td>\n",
              "    </tr>\n",
              "    <tr>\n",
              "      <th>2</th>\n",
              "      <td>./UrbanSound8K/audio/fold5/100263-2-0-121.wav</td>\n",
              "      <td>2</td>\n",
              "    </tr>\n",
              "    <tr>\n",
              "      <th>3</th>\n",
              "      <td>./UrbanSound8K/audio/fold5/100263-2-0-126.wav</td>\n",
              "      <td>2</td>\n",
              "    </tr>\n",
              "    <tr>\n",
              "      <th>4</th>\n",
              "      <td>./UrbanSound8K/audio/fold5/100263-2-0-137.wav</td>\n",
              "      <td>2</td>\n",
              "    </tr>\n",
              "  </tbody>\n",
              "</table>\n",
              "</div>\n",
              "      <button class=\"colab-df-convert\" onclick=\"convertToInteractive('df-20e0b44c-1d64-4719-aec5-d009e1899ca6')\"\n",
              "              title=\"Convert this dataframe to an interactive table.\"\n",
              "              style=\"display:none;\">\n",
              "\n",
              "  <svg xmlns=\"http://www.w3.org/2000/svg\" height=\"24px\"viewBox=\"0 0 24 24\"\n",
              "       width=\"24px\">\n",
              "    <path d=\"M0 0h24v24H0V0z\" fill=\"none\"/>\n",
              "    <path d=\"M18.56 5.44l.94 2.06.94-2.06 2.06-.94-2.06-.94-.94-2.06-.94 2.06-2.06.94zm-11 1L8.5 8.5l.94-2.06 2.06-.94-2.06-.94L8.5 2.5l-.94 2.06-2.06.94zm10 10l.94 2.06.94-2.06 2.06-.94-2.06-.94-.94-2.06-.94 2.06-2.06.94z\"/><path d=\"M17.41 7.96l-1.37-1.37c-.4-.4-.92-.59-1.43-.59-.52 0-1.04.2-1.43.59L10.3 9.45l-7.72 7.72c-.78.78-.78 2.05 0 2.83L4 21.41c.39.39.9.59 1.41.59.51 0 1.02-.2 1.41-.59l7.78-7.78 2.81-2.81c.8-.78.8-2.07 0-2.86zM5.41 20L4 18.59l7.72-7.72 1.47 1.35L5.41 20z\"/>\n",
              "  </svg>\n",
              "      </button>\n",
              "\n",
              "\n",
              "\n",
              "    <div id=\"df-4461f1d9-1d70-435a-bc1f-59a87ed0a330\">\n",
              "      <button class=\"colab-df-quickchart\" onclick=\"quickchart('df-4461f1d9-1d70-435a-bc1f-59a87ed0a330')\"\n",
              "              title=\"Suggest charts.\"\n",
              "              style=\"display:none;\">\n",
              "\n",
              "<svg xmlns=\"http://www.w3.org/2000/svg\" height=\"24px\"viewBox=\"0 0 24 24\"\n",
              "     width=\"24px\">\n",
              "    <g>\n",
              "        <path d=\"M19 3H5c-1.1 0-2 .9-2 2v14c0 1.1.9 2 2 2h14c1.1 0 2-.9 2-2V5c0-1.1-.9-2-2-2zM9 17H7v-7h2v7zm4 0h-2V7h2v10zm4 0h-2v-4h2v4z\"/>\n",
              "    </g>\n",
              "</svg>\n",
              "      </button>\n",
              "    </div>\n",
              "\n",
              "<style>\n",
              "  .colab-df-quickchart {\n",
              "    background-color: #E8F0FE;\n",
              "    border: none;\n",
              "    border-radius: 50%;\n",
              "    cursor: pointer;\n",
              "    display: none;\n",
              "    fill: #1967D2;\n",
              "    height: 32px;\n",
              "    padding: 0 0 0 0;\n",
              "    width: 32px;\n",
              "  }\n",
              "\n",
              "  .colab-df-quickchart:hover {\n",
              "    background-color: #E2EBFA;\n",
              "    box-shadow: 0px 1px 2px rgba(60, 64, 67, 0.3), 0px 1px 3px 1px rgba(60, 64, 67, 0.15);\n",
              "    fill: #174EA6;\n",
              "  }\n",
              "\n",
              "  [theme=dark] .colab-df-quickchart {\n",
              "    background-color: #3B4455;\n",
              "    fill: #D2E3FC;\n",
              "  }\n",
              "\n",
              "  [theme=dark] .colab-df-quickchart:hover {\n",
              "    background-color: #434B5C;\n",
              "    box-shadow: 0px 1px 3px 1px rgba(0, 0, 0, 0.15);\n",
              "    filter: drop-shadow(0px 1px 2px rgba(0, 0, 0, 0.3));\n",
              "    fill: #FFFFFF;\n",
              "  }\n",
              "</style>\n",
              "\n",
              "    <script>\n",
              "      async function quickchart(key) {\n",
              "        const containerElement = document.querySelector('#' + key);\n",
              "        const charts = await google.colab.kernel.invokeFunction(\n",
              "            'suggestCharts', [key], {});\n",
              "      }\n",
              "    </script>\n",
              "\n",
              "      <script>\n",
              "\n",
              "function displayQuickchartButton(domScope) {\n",
              "  let quickchartButtonEl =\n",
              "    domScope.querySelector('#df-4461f1d9-1d70-435a-bc1f-59a87ed0a330 button.colab-df-quickchart');\n",
              "  quickchartButtonEl.style.display =\n",
              "    google.colab.kernel.accessAllowed ? 'block' : 'none';\n",
              "}\n",
              "\n",
              "        displayQuickchartButton(document);\n",
              "      </script>\n",
              "      <style>\n",
              "    .colab-df-container {\n",
              "      display:flex;\n",
              "      flex-wrap:wrap;\n",
              "      gap: 12px;\n",
              "    }\n",
              "\n",
              "    .colab-df-convert {\n",
              "      background-color: #E8F0FE;\n",
              "      border: none;\n",
              "      border-radius: 50%;\n",
              "      cursor: pointer;\n",
              "      display: none;\n",
              "      fill: #1967D2;\n",
              "      height: 32px;\n",
              "      padding: 0 0 0 0;\n",
              "      width: 32px;\n",
              "    }\n",
              "\n",
              "    .colab-df-convert:hover {\n",
              "      background-color: #E2EBFA;\n",
              "      box-shadow: 0px 1px 2px rgba(60, 64, 67, 0.3), 0px 1px 3px 1px rgba(60, 64, 67, 0.15);\n",
              "      fill: #174EA6;\n",
              "    }\n",
              "\n",
              "    [theme=dark] .colab-df-convert {\n",
              "      background-color: #3B4455;\n",
              "      fill: #D2E3FC;\n",
              "    }\n",
              "\n",
              "    [theme=dark] .colab-df-convert:hover {\n",
              "      background-color: #434B5C;\n",
              "      box-shadow: 0px 1px 3px 1px rgba(0, 0, 0, 0.15);\n",
              "      filter: drop-shadow(0px 1px 2px rgba(0, 0, 0, 0.3));\n",
              "      fill: #FFFFFF;\n",
              "    }\n",
              "  </style>\n",
              "\n",
              "      <script>\n",
              "        const buttonEl =\n",
              "          document.querySelector('#df-20e0b44c-1d64-4719-aec5-d009e1899ca6 button.colab-df-convert');\n",
              "        buttonEl.style.display =\n",
              "          google.colab.kernel.accessAllowed ? 'block' : 'none';\n",
              "\n",
              "        async function convertToInteractive(key) {\n",
              "          const element = document.querySelector('#df-20e0b44c-1d64-4719-aec5-d009e1899ca6');\n",
              "          const dataTable =\n",
              "            await google.colab.kernel.invokeFunction('convertToInteractive',\n",
              "                                                     [key], {});\n",
              "          if (!dataTable) return;\n",
              "\n",
              "          const docLinkHtml = 'Like what you see? Visit the ' +\n",
              "            '<a target=\"_blank\" href=https://colab.research.google.com/notebooks/data_table.ipynb>data table notebook</a>'\n",
              "            + ' to learn more about interactive tables.';\n",
              "          element.innerHTML = '';\n",
              "          dataTable['output_type'] = 'display_data';\n",
              "          await google.colab.output.renderOutput(dataTable, element);\n",
              "          const docLink = document.createElement('div');\n",
              "          docLink.innerHTML = docLinkHtml;\n",
              "          element.appendChild(docLink);\n",
              "        }\n",
              "      </script>\n",
              "    </div>\n",
              "  </div>\n"
            ]
          },
          "metadata": {},
          "execution_count": 9
        }
      ],
      "source": [
        "# On sélectionne donc les colonnes 'relative_path' et `'classID'`\n",
        "dataset_df = metadata_df[['relative_path', 'classID']]\n",
        "dataset_df.head()"
      ]
    },
    {
      "cell_type": "markdown",
      "id": "98831716-ab5d-490d-b85f-f3b7c8a71044",
      "metadata": {
        "id": "98831716-ab5d-490d-b85f-f3b7c8a71044"
      },
      "source": [
        "Le faite d'avoir le chemin d'accès vers les fichiers audio va nous faciliter les choses pour préparation des données d'apprentissage.\n",
        "\n",
        "En effet, on ne peut pas faire entrer des chemins de fichiers audio directement dans le modèle. Nous devons donc lire et charger les données audio de chaque fichier et les traiter afin qu'elles soient dans un format exploitable par le modèle.\n",
        "\n",
        "Ce prétraitement audio sera entièrement effectué dynamiquement au moment de l'exécution de programme d'entraînement. Cette approche est similaire à celle des fichiers images en vision par ordinateur. Car, comme les données d'image, les données audio sont assez volumineuses et gourmandes en mémoire, ce qui fait qu'on ne peut pas charger l'intégralité de l'ensemble de données en mémoire à l'avance. Donc, les seules informations qu'on arriver à conserver en mémoire sont les chemins d'accès vers ces fichiers audio (ou image).\n",
        "\n",
        "Les données audio sont traitées en appliquant une série de transformations. Exactement comme pour les images, nous pourrions un pipeline de transformations constitué d'une liste de fonctions de traitement audio.\n",
        "\n",
        "Voici la liste des fonctions à programmer :\n",
        "\n",
        "1. Lecture de fichier audio;\n",
        "2. Conversion en 2 canaux (stereo);\n",
        "3. Normalisation du taux d'échantillonnage;\n",
        "4. Redimensionnement à la même longueur (durée);\n",
        "5. Décalage temporel pour l'augmentation;\n",
        "6. Génération de Spectrogramme Mel;\n",
        "7. Masquage temporel et fréquentiel pour l'augmentation.\n"
      ]
    },
    {
      "cell_type": "markdown",
      "id": "98aa8f6b-7718-4fc8-9575-cfe8a702a5f5",
      "metadata": {
        "id": "98aa8f6b-7718-4fc8-9575-cfe8a702a5f5"
      },
      "source": [
        "### Lecture de fichier audio"
      ]
    },
    {
      "cell_type": "markdown",
      "id": "24c67ad3-e782-4bca-9654-351a3207d728",
      "metadata": {
        "id": "24c67ad3-e782-4bca-9654-351a3207d728"
      },
      "source": [
        "La première chose dont nous avons besoin est de lire et de charger le fichier audio au format **.wav**. Puisque nous utilisons [**Pytorch**](https://pytorch.org/) pour cet exemple, l'implémentation ci-dessous utilise `torchaudio` pour le traitement audio, mais le package python `librosa` peut aussi faire l'affaire."
      ]
    },
    {
      "cell_type": "code",
      "execution_count": 11,
      "id": "7f51bdfe-9b26-4476-b9d5-a819a0de2316",
      "metadata": {
        "id": "7f51bdfe-9b26-4476-b9d5-a819a0de2316"
      },
      "outputs": [],
      "source": [
        "from typing import Tuple\n",
        "import torch\n",
        "import torchaudio\n",
        "from torchaudio import transforms\n",
        "\n",
        "\n",
        "def read(audio_file: str) -> Tuple[torch.Tensor, int]:\n",
        "    \"\"\" Fonction de lecture des données audio.\n",
        "\n",
        "    On utilise la fonction `load()` de `torchaudio`.\n",
        "    Pour plus d'information, voici un lien :\n",
        "    https://pytorch.org/audio/stable/tutorials/audio_io_tutorial.html#loading-audio-data\n",
        "\n",
        "    Arguments:\n",
        "        audio_file (`str`): Le chemin d'accès vers le fichier audio.\n",
        "\n",
        "    Returns:\n",
        "        `tuple`: constitué d'un tenseur et d'un entier.\n",
        "           * Le tenseur nommé `waveform` représente les données audio;\n",
        "           * et l'entier nommé `sample_rate` représente le taux\n",
        "             d'échantillonnage.\n",
        "\n",
        "    Example:\n",
        "        >>> waveform, sample_rate = read('./pathto/audio_file.wav')\n",
        "        >>> print(sample_rate)\n",
        "        44100\n",
        "    \"\"\"\n",
        "    waveform, sample_rate = torchaudio.load(audio_file)\n",
        "    return (waveform, sample_rate)"
      ]
    },
    {
      "cell_type": "markdown",
      "source": [
        "Pour tester, on va essayer de lire un des audios de notre ensemble de donnée et d'afficher ses dimensions et son taux (fréquence) d'échantillonnage."
      ],
      "metadata": {
        "id": "wzcI6PSHPWMU"
      },
      "id": "wzcI6PSHPWMU"
    },
    {
      "cell_type": "code",
      "source": [
        "audio_file_name = dataset_df['relative_path'][0]\n",
        "audio = read(audio_file_name)\n",
        "signal, sample_rate = audio\n",
        "print(f\"* Nom du fichier de l'audio : {audio_file_name}\")\n",
        "print(f\"* Les dimensions du signal : {signal.shape}\")\n",
        "print(f\"* Taux d'échantillonnages : {sample_rate}\")"
      ],
      "metadata": {
        "colab": {
          "base_uri": "https://localhost:8080/"
        },
        "id": "HbxwoMaVPwj6",
        "outputId": "a51fe8a6-a24e-436c-97ff-74a760ecb488"
      },
      "id": "HbxwoMaVPwj6",
      "execution_count": 14,
      "outputs": [
        {
          "output_type": "stream",
          "name": "stdout",
          "text": [
            "* Nom du fichier de l'audio : ./UrbanSound8K/audio/fold5/100032-3-0-0.wav\n",
            "* Les dimensions du signal : torch.Size([2, 14004])\n",
            "* Taux d'échantillonnages : 44100\n"
          ]
        }
      ]
    },
    {
      "cell_type": "markdown",
      "source": [
        "Ce fichier audio qu'on vient de lire par exemple est sur deux canaux car le tenseur du signal comporte 2 lignes."
      ],
      "metadata": {
        "id": "mRKf85vxSVK1"
      },
      "id": "mRKf85vxSVK1"
    },
    {
      "cell_type": "markdown",
      "id": "c961c5cc-95d7-46c9-9ee0-b8cb0200c75d",
      "metadata": {
        "id": "c961c5cc-95d7-46c9-9ee0-b8cb0200c75d"
      },
      "source": [
        "### Conversion en 2 canaux (stereo)"
      ]
    },
    {
      "cell_type": "markdown",
      "id": "c1895484-2668-4621-b961-0007f18afb11",
      "metadata": {
        "id": "c1895484-2668-4621-b961-0007f18afb11"
      },
      "source": [
        "Dans un ensemble de données de fichiers audio, il peut arriver qu'on ait certains fichiers son sont **mono** (c'est-à-dire 1 canal audio) tandis que la plupart d'entre eux soient **stéréo** (c'est-à-dire 2 canaux audio). Étant donné que notre modèle s'attend à ce que tous les données d'entrées aient les mêmes dimensions, alors nous sommes amenés à convertir les fichiers audio mono en stéréo, en dupliquant juste le premier canal sur le second."
      ]
    },
    {
      "cell_type": "code",
      "execution_count": null,
      "id": "3758d581-a95e-4542-8b60-6a9dd44acf8e",
      "metadata": {
        "id": "3758d581-a95e-4542-8b60-6a9dd44acf8e"
      },
      "outputs": [],
      "source": [
        "from typing import Tuple\n",
        "import torch\n",
        "\n",
        "\n",
        "def rechannel(audio: Tuple[torch.Tensor, int],\n",
        "              channel_count: int) -> Tuple[torch.Tensor, int]:\n",
        "    \"\"\" Fonction de conversion de canal.\n",
        "\n",
        "    La conversion de mono en stéréo revient juste\n",
        "    à concatener une copie du tableau de données\n",
        "    audio (waveform) à lui-même.\n",
        "\n",
        "    Arguments:\n",
        "        audio (:obj:`tuple`): Le tuple waveform et sample_rate.\n",
        "        channel_count (`int`): Le nombre de cannaux souhaités.\n",
        "\n",
        "    Returns:\n",
        "        `tuple`: Le couple formé du tenseur modifié\n",
        "                 et du taux d'échantillonnage.\n",
        "\n",
        "    Example:\n",
        "        >>> audio = read('./pathto/audio_file.wav')\n",
        "        >>> audio_mono = rechannel(audio, 1)  # converti en mono.\n",
        "        >>> audio_stereo = rechannel(audio, 2)  # converti en stéréo.\n",
        "        >>>\n",
        "    \"\"\"\n",
        "    if channel_count not in (1, 2):\n",
        "        raise ValueError(\"Le nombre de channal doit être 1 ou 2.\")\n",
        "\n",
        "    wave_form, sample_rate = audio\n",
        "    # NOTE: Le nombre de cannal est égal\n",
        "    #       au nombre de lignes du tableau wave_form.\n",
        "    if wave_form.shape[0] == channel_count:\n",
        "        # Plus la peine de continuer si le nombre de cannaux de ce audio\n",
        "        # est déjà le nombre de cannal souhaité.\n",
        "        return audio\n",
        "\n",
        "    wave_form_rech = None\n",
        "    if channel_count == 2:\n",
        "        # on convertie en stéréo:\n",
        "        wave_form_rech = torch.cat([wave_form, wave_form])\n",
        "    elif channel_count == 1:\n",
        "        # on convertie en mono:\n",
        "        wave_form_rech = wave_form[:1, :]\n",
        "\n",
        "    return (wave_form_rech, sample_rate)\n"
      ]
    },
    {
      "cell_type": "markdown",
      "id": "957526a1-0b80-4c2d-8083-dbf5b44034eb",
      "metadata": {
        "id": "957526a1-0b80-4c2d-8083-dbf5b44034eb"
      },
      "source": [
        "### Normalisation du taux d'échantillonnage"
      ]
    },
    {
      "cell_type": "markdown",
      "id": "1e151b64-e158-4e90-b9ee-f72e7657da89",
      "metadata": {
        "id": "1e151b64-e158-4e90-b9ee-f72e7657da89"
      },
      "source": [
        "Toujours dans cette même ensemble de données, certains fichiers audio sont échantionnés à une fréquence de 48000 Hz, alors que la plupart sont échantillonnés à une fréquence de 44100 Hz.\n",
        "\n",
        "Pour rappel, en mécanique, la fréquence est le nombre de tours enrégistrés en une seconde et un tour correspond une période du signal. En traitement numérique du signal, les signaux audio sont généralement échantillonnés à une fréquence de **44100 Hz**, ce qui signifie les données audio récupérées en une seconde sont stockées dans un **tableau de taille 44100**.\n",
        "\n",
        "Donc, pour certains fichiers audio de notre dataset, une seconde d'audio aura une taille de tableau de 48 000, or qu'elle devrait avoir une taille de tableau plus petite, 44 100 comme la majorité. Ce sont ces raisons qui nous amène à vouloir normaliser en convertissant tout l'audio au même taux d'échantillonnage afin que tous les tableaux aient les mêmes dimensions."
      ]
    },
    {
      "cell_type": "code",
      "execution_count": null,
      "id": "c6106b92-f17c-40a3-9776-fc8ce8717e69",
      "metadata": {
        "id": "c6106b92-f17c-40a3-9776-fc8ce8717e69"
      },
      "outputs": [],
      "source": [
        "from typing import Tuple\n",
        "import torch\n",
        "from torchaudio import transforms as T\n",
        "\n",
        "\n",
        "def resample(audio: Tuple[torch.Tensor, int],\n",
        "             new_sample_rate: int) -> Tuple[torch.Tensor, int]:\n",
        "    \"\"\" Fonction de normalisation de la fréquence d'échantionnage.\n",
        "\n",
        "    On va utiliser la classe `Resample` du module `transforms`\n",
        "    du package `torchaudio` pour effectuer cette normalisation.\n",
        "\n",
        "    Arguments:\n",
        "        audio (:obj:`tuple`): Le tuple waveform et sample_rate.\n",
        "        new_sample_rate (`int`): La nouvelle fréquence d'échantillonnage\n",
        "                                 vers laquelle on veut convertir les données\n",
        "                                 audio.\n",
        "\n",
        "    Returns:\n",
        "        `tuple`: Le couple formé du tenseur modifié\n",
        "                 et du nouveau taux d'échantillonnage.\n",
        "\n",
        "    Example:\n",
        "        >>> audio = read('./pathto/audio_file.wav')\n",
        "        >>> audio = resample(audio, 44100)\n",
        "        >>>\n",
        "    \"\"\"\n",
        "    wave_form, sample_rate = audio\n",
        "    if sample_rate == new_sample_rate:\n",
        "        # Il n'y plus rien à faire d'autre.\n",
        "        return audio\n",
        "\n",
        "    resample_obj = T.Resample(sample_rate, new_sample_rate)\n",
        "    wave_form_resample = resample_obj(wave_form[:1, :])\n",
        "\n",
        "    num_channels = wave_form.shape[0]\n",
        "    if num_channels > 1:\n",
        "        # S'il y a un second canal.\n",
        "        wf_second_channel = resample_obj(wave_form[1:, :])\n",
        "        wave_form_resample = torch.cat([wave_form_resample, wf_second_channel])\n",
        "\n",
        "    return (wave_form_resample, new_sample_rate)\n"
      ]
    },
    {
      "cell_type": "markdown",
      "id": "bf2d7dd7-a603-475b-b38c-aa03d2a293de",
      "metadata": {
        "id": "bf2d7dd7-a603-475b-b38c-aa03d2a293de"
      },
      "source": [
        "### Redimensionnement à la même longueur (durée)"
      ]
    },
    {
      "cell_type": "markdown",
      "id": "44cddc0b-563c-4db9-a39e-cde3efab9952",
      "metadata": {
        "id": "44cddc0b-563c-4db9-a39e-cde3efab9952"
      },
      "source": [
        "On doit modifier ensuite tous les échantillons audio pour qu'ils aient la même longueur, c'est-à-dire la même durée. Pour faire cela, soit on prolonge la durée de ces audios en **les remplissant de silence** (en anglais, on parle de **padding**), soit, on les tronque. Cela dépendra de la longueur maximale fixée, de la longueur de l'audio. On cherche tout simplement à s'assurer que toutes les données audio de l'ensemble de données ont la même longueur."
      ]
    },
    {
      "cell_type": "code",
      "execution_count": 17,
      "id": "ef71b97f-1d46-4a9c-9064-12b69a3c546a",
      "metadata": {
        "id": "ef71b97f-1d46-4a9c-9064-12b69a3c546a"
      },
      "outputs": [],
      "source": [
        "import random\n",
        "from typing import Tuple\n",
        "\n",
        "import torch\n",
        "\n",
        "\n",
        "def reshape_len(audio: Tuple[torch.Tensor, int],\n",
        "                max_duration: int) -> Tuple[torch.Tensor, int]:\n",
        "    \"\"\" Fonction de redimensionnement de la longeur des audios.\n",
        "\n",
        "    Si la longueur (durée) maximale fixée `max_duration` est inférieur à la longeur\n",
        "    de l'audio, alors l'audio sera tronqué, sinon on prolongera sa durée en rajoutant\n",
        "    une série de `0` jusqu'à la longueur maximale.\n",
        "\n",
        "    Arguments:\n",
        "        audio (:obj:`tuple`): Le tuple waveform et sample_rate.\n",
        "        max_duration (`int`): La durée maximale fixée en milliseconde.\n",
        "\n",
        "    Returns:\n",
        "        `tuple`: Le couple formé du tenseur modifié et qui désormais\n",
        "                 les mêmes tailles et du taux d'échantillonnage.\n",
        "\n",
        "    Example:\n",
        "        >>> audio = read('./pathto/audio_file.wav')\n",
        "        >>> audio = reshape_len(audio, 15000)  # ici la longueur est fixée à 15 sec.\n",
        "        >>> print(audio[0].shape)\n",
        "        torch.Size([2, 660000])\n",
        "    \"\"\"\n",
        "    signal, sample_rate = audio\n",
        "    n_rows, signal_len = signal.shape\n",
        "    # `n_rows`: représente le nombre de canal, donc vaux 2 et\n",
        "    # `signal_len`: la longueur du signal qui vaut 44100 * durée (en seconde).\n",
        "\n",
        "    # Il nous faut calculer la taux d'échantillonnage pour 1 milliseconde\n",
        "    # sachant que le taux d'échantillonnage pour 1 seconde est 44100.\n",
        "    #       1  ---->  ?\n",
        "    #    1000  ---->  44100 = `sample_rate`\n",
        "    # Par la règle de 3, on retrouve `sample_rate` / 1000, mais on fera une division\n",
        "    # entière histoire de ne pas avoir un nombre à virgule. Ce qui nous donne 44.\n",
        "    millis_sample_rate = sample_rate // 1000\n",
        "    # Maintenant, on va pouvoir calculer la longueur de séquence\n",
        "    # correspondante à la durée `max_duration` fixée en milliseconde.\n",
        "    max_len = millis_sample_rate * max_duration  # 44 * `max_duration`\n",
        "\n",
        "    if max_len == signal_len:\n",
        "        # alors c'est génial, rien à faire.\n",
        "        return audio\n",
        "\n",
        "    if signal_len < max_len:\n",
        "        # alors on fera un padding,\n",
        "        # il faut donc calculer la longueur de la marge total à rajouter.\n",
        "        pad_len = max_len - signal_len\n",
        "\n",
        "        # Maintenant, qu'on connais combien de marge total il faut rajouter\n",
        "        # alors on va calculer combien de marge il faut ajouter au début\n",
        "        # et combien il faut rajouter à la fin. Pour cela on va prendre un\n",
        "        # nombre entre 0 et pad_len de façon aléatoire qui va représenter la\n",
        "        # marge de début et le soustraire de pad_len pour calculer la marge de fin.\n",
        "        begin_pad_len = random.randint(0, pad_len)\n",
        "        end_pad_len = pad_len - begin_pad_len\n",
        "\n",
        "        # on initialise deux matrices nules chacune de taille\n",
        "        #  - `n_rows` X `begin_pad_len`\n",
        "        #  - `n_rows` X `end_pad_len`\n",
        "        # respectivement pour la marge de début et de fin.\n",
        "        # Voici à quoi resemble chacune des deux matrices :\n",
        "        # [[0, 0, ... 0],  ---> canal 1\n",
        "        #  [0, 0, ... 0]]  ---> canal 2\n",
        "        begin_pad = torch.zeros((n_rows, begin_pad_len))\n",
        "        end_pad = torch.zeros((n_rows, end_pad_len))\n",
        "\n",
        "        # On peut ajouter maintenant ces deux marges au signe d'origine.\n",
        "        # Exemple: Si la longueur total de la marge à faire faisait : 10.\n",
        "        #          En supposant que le choix aléatoire de la longeur de\n",
        "        #          début a donnée 4, alors on aura 6 comme longueur de\n",
        "        #          fin et qui donne l'exemple de résultat suivant :\n",
        "        # [[0, 0, 0, 0, 12, 208, ... 79,  9, 0, 0, 0, 0, 0, 0],  ---> canal 1\n",
        "        #  [0, 0, 0, 0, 90,   3, ...  5, 28, 0, 0, 0, 0, 0, 0]]  ---> canal 2\n",
        "        signal = torch.cat((begin_pad, signal, end_pad), 1)\n",
        "    else:\n",
        "        # alors on fera une trocature, car la longueur du signal\n",
        "        # d'origine dépasse la longueur maximale fixée.\n",
        "        signal = signal[:, :max_len]\n",
        "\n",
        "    return (signal, sample_rate)"
      ]
    },
    {
      "cell_type": "markdown",
      "id": "e045b3c5-4c00-4142-ab9e-67c6d285add4",
      "metadata": {
        "id": "e045b3c5-4c00-4142-ab9e-67c6d285add4"
      },
      "source": [
        "Dans le cas où la longueur du signal est inférieur à la longueur maximale fixée, on préfère partager les marges au début et à la fin du signal de façon aléatoire et non de façon équitable, parce qu'on ne voudrait pas que notre modèle se mette à généraliser sur certaines constantes.\n",
        "\n",
        "Faisons un petit teste sur un des audios afin de mieux comprendre."
      ]
    },
    {
      "cell_type": "code",
      "source": [
        "audio_file_name = dataset_df['relative_path'][0]\n",
        "audio = read(audio_file_name)\n",
        "signal, sample_rate = audio\n",
        "print(f\"* Nom du fichier de l'audio : {audio_file_name}\")\n",
        "print(f\"* Les dimensions du signal : {signal.shape}\")\n",
        "print(f\"* Taux d'échantillonnages : {sample_rate}\")\n",
        "\n",
        "print(\"--------------------------------------------------\")\n",
        "\n",
        "# Maintenant, on va faire fixée une durée\n",
        "# maximale de 2 secondes pour notre audio.\n",
        "audio = reshape_len(audio, 2000)\n",
        "signal, sample_rate = audio\n",
        "print(f\"* Nom du fichier de l'audio : {audio_file_name}\")\n",
        "print(f\"* Les dimensions du signal : {signal.shape}\")\n",
        "print(f\"* Taux d'échantillonnages : {sample_rate}\")"
      ],
      "metadata": {
        "colab": {
          "base_uri": "https://localhost:8080/"
        },
        "id": "wsBQ8VbMVslW",
        "outputId": "4e6036b0-a155-498a-f240-4b5b8c88ebe5"
      },
      "id": "wsBQ8VbMVslW",
      "execution_count": 19,
      "outputs": [
        {
          "output_type": "stream",
          "name": "stdout",
          "text": [
            "* Nom du fichier de l'audio : ./UrbanSound8K/audio/fold5/100032-3-0-0.wav\n",
            "* Les dimensions du signal : torch.Size([2, 14004])\n",
            "* Taux d'échantillonnages : 44100\n",
            "--------------------------------------------------\n",
            "* Nom du fichier de l'audio : ./UrbanSound8K/audio/fold5/100032-3-0-0.wav\n",
            "* Les dimensions du signal : torch.Size([2, 88000])\n",
            "* Taux d'échantillonnages : 44100\n"
          ]
        }
      ]
    },
    {
      "cell_type": "markdown",
      "source": [
        "Logique, car la longueur necessaire à 2 secondes de son est calculée par la formule suivante :\n",
        "\n",
        "$$\n",
        "v = \\frac{d}{t} => d = v \\times t\n",
        "$$\n",
        "\n",
        "Avec $d$ la taille en mémoire, $v$ la fréquence d'échantillonnage et $t$ la durée du son. C'est donc exactement comme en mécanique, où :\n",
        "\n",
        "$$\n",
        "vitesse = \\frac{distance}{temps}\n",
        "$$\n",
        "\n",
        "En remplaçant donc les variables par leur valeur, on a\n",
        "$v = 44$, $t = 2000$ et donc $d = 44 \\times 2000 = 88000$.\n"
      ],
      "metadata": {
        "id": "iaHjxROiZ_HY"
      },
      "id": "iaHjxROiZ_HY"
    },
    {
      "cell_type": "markdown",
      "id": "d4ad1222-a19a-4bee-b766-bcdcf2eb7a12",
      "metadata": {
        "id": "d4ad1222-a19a-4bee-b766-bcdcf2eb7a12"
      },
      "source": [
        "### Décalage temporel"
      ]
    },
    {
      "cell_type": "markdown",
      "id": "cd820ed5-6ec9-4cb5-9587-c67b270a8e9f",
      "metadata": {
        "id": "cd820ed5-6ec9-4cb5-9587-c67b270a8e9f"
      },
      "source": [
        "Nous pouvons augmenter les données, c'est à dire générer d'autres sons en plus à partir de ceux de l'ensemble de données en faisait des décalages temporel. Ce dernier consiste décaler l'audio vers la gauche ou la droite d'un nombre aléatoire de positions."
      ]
    },
    {
      "cell_type": "code",
      "source": [
        "import logging\n",
        "import random\n",
        "from typing import Tuple\n",
        "\n",
        "import torch\n",
        "\n",
        "\n",
        "LOG = logging.getLogger(__name__)  # c'est juste pour afficher un message.\n",
        "\n",
        "\n",
        "def shift(audio: Tuple[torch.Tensor, int],\n",
        "                shift_limit: int) -> Tuple[torch.Tensor, int]:\n",
        "    \"\"\" Fonction de fonctions de décalage d'un  signal audios.\n",
        "\n",
        "    Arguments:\n",
        "        audio (:obj:`tuple`): Le tuple waveform et sample_rate.\n",
        "        shift_limit (`int`): Le nombre maximal de position.\n",
        "\n",
        "    Returns:\n",
        "        `tuple`: Le couple formé du tenseur modifié qui contient\n",
        "                 le signal décalé et du taux d'échantillonnage.\n",
        "    \"\"\"\n",
        "    signal, sample_rate = audio\n",
        "    _, signal_len = signal.shape\n",
        "\n",
        "    shift_places = int(random.random() * shift_limit)\n",
        "    shift_signal = torch.roll(signal, shift_places, 1)\n",
        "    LOG.warning(\"Décalage de \" + str(shift_places))\n",
        "\n",
        "    return (shift_signal, sample_rate)"
      ],
      "metadata": {
        "id": "SZqFjr41iYrH"
      },
      "id": "SZqFjr41iYrH",
      "execution_count": 82,
      "outputs": []
    },
    {
      "cell_type": "markdown",
      "source": [
        "La fonction `torch.roll()` permet de décaler les éléments d'un tenseur. Les détails se trouvent à ce [lien](https://pytorch.org/docs/stable/generated/torch.roll.html)."
      ],
      "metadata": {
        "id": "n-Jzo2rQtxdY"
      },
      "id": "n-Jzo2rQtxdY"
    },
    {
      "cell_type": "markdown",
      "source": [
        "Testons cela avec un exemple qu'on va visualiser."
      ],
      "metadata": {
        "id": "ufFTc-p-kfW2"
      },
      "id": "ufFTc-p-kfW2"
    },
    {
      "cell_type": "code",
      "source": [
        "audio_file_name = dataset_df['relative_path'][100]\n",
        "audio = read(audio_file_name)\n",
        "shift_audio = shift(audio, 100)"
      ],
      "metadata": {
        "colab": {
          "base_uri": "https://localhost:8080/"
        },
        "id": "ILcxvU9gkk4H",
        "outputId": "ceb84033-c21d-4288-8736-78bbe53232fb"
      },
      "id": "ILcxvU9gkk4H",
      "execution_count": 90,
      "outputs": [
        {
          "output_type": "stream",
          "name": "stderr",
          "text": [
            "WARNING:__main__:Décalage de 37\n"
          ]
        }
      ]
    },
    {
      "cell_type": "markdown",
      "source": [
        "On va maintenant écrire une fonction qui va nous permettre de visualiser le signal sur un graphique."
      ],
      "metadata": {
        "id": "q4--DeeBk5t4"
      },
      "id": "q4--DeeBk5t4"
    },
    {
      "cell_type": "code",
      "source": [
        "import numpy as np\n",
        "import matplotlib.pyplot as plt\n",
        "\n",
        "\n",
        "def plot_signal(s1, s2, max_time=1000, dt=1):\n",
        "  \"\"\" Fonction de représentation graphique\n",
        "      de deux signals sur une même figure.\n",
        "  \"\"\"\n",
        "  t = np.arange(0, max_time, dt)\n",
        "  s1 = s1[:t.shape[0]]\n",
        "  s2 = s2[:t.shape[0]]\n",
        "\n",
        "  fig, ax = plt.subplots()\n",
        "  ax.plot(t, s1, label='original')\n",
        "  ax.plot(t, s2, label='modified')\n",
        "  ax.set_xlabel(\"Time\")\n",
        "  ax.set_ylabel(\"signal s1, s2\")\n",
        "\n",
        "  plt.grid(True)\n",
        "  plt.legend()\n",
        "  plt.show()\n"
      ],
      "metadata": {
        "id": "ygA4bPZxk2g4"
      },
      "id": "ygA4bPZxk2g4",
      "execution_count": 94,
      "outputs": []
    },
    {
      "cell_type": "markdown",
      "source": [
        "On va simplement représente un seul canal de ces deux signaux."
      ],
      "metadata": {
        "id": "TK8Xga2trTRz"
      },
      "id": "TK8Xga2trTRz"
    },
    {
      "cell_type": "code",
      "source": [
        "original_signal = audio[0][0]\n",
        "shift_signal = shift_audio[0][0]\n",
        "\n",
        "plot_signal(original_signal, shift_signal, 2000)"
      ],
      "metadata": {
        "colab": {
          "base_uri": "https://localhost:8080/",
          "height": 449
        },
        "id": "RWk0s-uqnVnX",
        "outputId": "2f630999-0a5f-4809-9de4-b19ca4a74d6a"
      },
      "id": "RWk0s-uqnVnX",
      "execution_count": 95,
      "outputs": [
        {
          "output_type": "display_data",
          "data": {
            "text/plain": [
              "<Figure size 640x480 with 1 Axes>"
            ],
            "image/png": "[encoded data removed]"
          },
          "metadata": {}
        }
      ]
    },
    {
      "cell_type": "code",
      "source": [],
      "metadata": {
        "id": "ZgzlvT-AnlLx"
      },
      "id": "ZgzlvT-AnlLx",
      "execution_count": null,
      "outputs": []
    }
  ],
  "metadata": {
    "kernelspec": {
      "display_name": "Python 3 (ipykernel)",
      "language": "python",
      "name": "python3"
    },
    "language_info": {
      "codemirror_mode": {
        "name": "ipython",
        "version": 3
      },
      "file_extension": ".py",
      "mimetype": "text/x-python",
      "name": "python",
      "nbconvert_exporter": "python",
      "pygments_lexer": "ipython3",
      "version": "3.11.4"
    },
    "colab": {
      "provenance": []
    }
  },
  "nbformat": 4,
  "nbformat_minor": 5
}